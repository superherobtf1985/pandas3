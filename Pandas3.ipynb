{
  "nbformat": 4,
  "nbformat_minor": 0,
  "metadata": {
    "colab": {
      "name": "Pandas3.ipynb",
      "provenance": [],
      "toc_visible": true,
      "authorship_tag": "ABX9TyOMsEH/3pEDmBQhGtLERKzr",
      "include_colab_link": true
    },
    "kernelspec": {
      "name": "python3",
      "display_name": "Python 3"
    }
  },
  "cells": [
    {
      "cell_type": "markdown",
      "metadata": {
        "id": "view-in-github",
        "colab_type": "text"
      },
      "source": [
        "<a href=\"https://colab.research.google.com/github/superherobtf1985/pandas3/blob/master/Pandas3.ipynb\" target=\"_parent\"><img src=\"https://colab.research.google.com/assets/colab-badge.svg\" alt=\"Open In Colab\"/></a>"
      ]
    },
    {
      "cell_type": "markdown",
      "metadata": {
        "id": "_bAf2EqTKWnh",
        "colab_type": "text"
      },
      "source": [
        "# pandasの基本3"
      ]
    },
    {
      "cell_type": "code",
      "metadata": {
        "id": "kkreQQw9l7U5",
        "colab_type": "code",
        "colab": {}
      },
      "source": [
        "import pandas as pd"
      ],
      "execution_count": 0,
      "outputs": []
    },
    {
      "cell_type": "code",
      "metadata": {
        "id": "FUmP07GrmYyV",
        "colab_type": "code",
        "outputId": "526b39da-a3c4-46c2-d1f7-2ca949626a38",
        "colab": {
          "base_uri": "https://localhost:8080/",
          "height": 142
        }
      },
      "source": [
        "kanto_df = pd.read_csv(\"kanto.csv\")\n",
        "kanto_df"
      ],
      "execution_count": 2,
      "outputs": [
        {
          "output_type": "execute_result",
          "data": {
            "text/html": [
              "<div>\n",
              "<style scoped>\n",
              "    .dataframe tbody tr th:only-of-type {\n",
              "        vertical-align: middle;\n",
              "    }\n",
              "\n",
              "    .dataframe tbody tr th {\n",
              "        vertical-align: top;\n",
              "    }\n",
              "\n",
              "    .dataframe thead th {\n",
              "        text-align: right;\n",
              "    }\n",
              "</style>\n",
              "<table border=\"1\" class=\"dataframe\">\n",
              "  <thead>\n",
              "    <tr style=\"text-align: right;\">\n",
              "      <th></th>\n",
              "      <th>prefecture</th>\n",
              "      <th>region</th>\n",
              "      <th>capital_city</th>\n",
              "      <th>major_station_1</th>\n",
              "      <th>major_station_2</th>\n",
              "    </tr>\n",
              "  </thead>\n",
              "  <tbody>\n",
              "    <tr>\n",
              "      <th>0</th>\n",
              "      <td>Tokyo</td>\n",
              "      <td>Kanto</td>\n",
              "      <td>Tokyo</td>\n",
              "      <td>Tokyo</td>\n",
              "      <td>Shinjuku</td>\n",
              "    </tr>\n",
              "    <tr>\n",
              "      <th>1</th>\n",
              "      <td>Saitama</td>\n",
              "      <td>Kanto</td>\n",
              "      <td>Saitama</td>\n",
              "      <td>Omiya</td>\n",
              "      <td>Urawa</td>\n",
              "    </tr>\n",
              "    <tr>\n",
              "      <th>2</th>\n",
              "      <td>Kanagawa</td>\n",
              "      <td>Kanto</td>\n",
              "      <td>Yokohama</td>\n",
              "      <td>Yokohama</td>\n",
              "      <td>Kawasaki</td>\n",
              "    </tr>\n",
              "  </tbody>\n",
              "</table>\n",
              "</div>"
            ],
            "text/plain": [
              "  prefecture region capital_city major_station_1 major_station_2\n",
              "0      Tokyo  Kanto        Tokyo           Tokyo        Shinjuku\n",
              "1    Saitama  Kanto      Saitama           Omiya           Urawa\n",
              "2   Kanagawa  Kanto     Yokohama        Yokohama        Kawasaki"
            ]
          },
          "metadata": {
            "tags": []
          },
          "execution_count": 2
        }
      ]
    },
    {
      "cell_type": "code",
      "metadata": {
        "id": "H7UJUN6Smy3q",
        "colab_type": "code",
        "outputId": "54a8d63c-893f-4d1c-c6ac-a0e9d8671d04",
        "colab": {
          "base_uri": "https://localhost:8080/",
          "height": 173
        }
      },
      "source": [
        "kansai_df = pd.read_csv(\"kansai.csv\")\n",
        "kansai_df"
      ],
      "execution_count": 3,
      "outputs": [
        {
          "output_type": "execute_result",
          "data": {
            "text/html": [
              "<div>\n",
              "<style scoped>\n",
              "    .dataframe tbody tr th:only-of-type {\n",
              "        vertical-align: middle;\n",
              "    }\n",
              "\n",
              "    .dataframe tbody tr th {\n",
              "        vertical-align: top;\n",
              "    }\n",
              "\n",
              "    .dataframe thead th {\n",
              "        text-align: right;\n",
              "    }\n",
              "</style>\n",
              "<table border=\"1\" class=\"dataframe\">\n",
              "  <thead>\n",
              "    <tr style=\"text-align: right;\">\n",
              "      <th></th>\n",
              "      <th>prefecture</th>\n",
              "      <th>region</th>\n",
              "      <th>capital_city</th>\n",
              "      <th>major_station_1</th>\n",
              "    </tr>\n",
              "  </thead>\n",
              "  <tbody>\n",
              "    <tr>\n",
              "      <th>0</th>\n",
              "      <td>Osaka</td>\n",
              "      <td>Kansai</td>\n",
              "      <td>Osaka</td>\n",
              "      <td>Umeda</td>\n",
              "    </tr>\n",
              "    <tr>\n",
              "      <th>1</th>\n",
              "      <td>Kyoto</td>\n",
              "      <td>Kansai</td>\n",
              "      <td>Kyoto</td>\n",
              "      <td>Kyoto</td>\n",
              "    </tr>\n",
              "    <tr>\n",
              "      <th>2</th>\n",
              "      <td>Nara</td>\n",
              "      <td>Kansai</td>\n",
              "      <td>Nara</td>\n",
              "      <td>Nara</td>\n",
              "    </tr>\n",
              "    <tr>\n",
              "      <th>3</th>\n",
              "      <td>Hyogo</td>\n",
              "      <td>Kansai</td>\n",
              "      <td>Kobe</td>\n",
              "      <td>Kobe</td>\n",
              "    </tr>\n",
              "  </tbody>\n",
              "</table>\n",
              "</div>"
            ],
            "text/plain": [
              "  prefecture  region capital_city major_station_1\n",
              "0      Osaka  Kansai        Osaka           Umeda\n",
              "1      Kyoto  Kansai        Kyoto           Kyoto\n",
              "2       Nara  Kansai         Nara            Nara\n",
              "3      Hyogo  Kansai         Kobe            Kobe"
            ]
          },
          "metadata": {
            "tags": []
          },
          "execution_count": 3
        }
      ]
    },
    {
      "cell_type": "markdown",
      "metadata": {
        "id": "Wtrm1G3qm243",
        "colab_type": "text"
      },
      "source": [
        "## 2つのデータを連結する"
      ]
    },
    {
      "cell_type": "code",
      "metadata": {
        "id": "UHUIYn8anCxz",
        "colab_type": "code",
        "outputId": "78624db8-0530-4f87-a527-16acbb01a08a",
        "colab": {
          "base_uri": "https://localhost:8080/",
          "height": 266
        }
      },
      "source": [
        "kanto_kansai_df = pd.concat([kanto_df, kansai_df], sort=True).reset_index(drop=True)\n",
        "kanto_kansai_df"
      ],
      "execution_count": 4,
      "outputs": [
        {
          "output_type": "execute_result",
          "data": {
            "text/html": [
              "<div>\n",
              "<style scoped>\n",
              "    .dataframe tbody tr th:only-of-type {\n",
              "        vertical-align: middle;\n",
              "    }\n",
              "\n",
              "    .dataframe tbody tr th {\n",
              "        vertical-align: top;\n",
              "    }\n",
              "\n",
              "    .dataframe thead th {\n",
              "        text-align: right;\n",
              "    }\n",
              "</style>\n",
              "<table border=\"1\" class=\"dataframe\">\n",
              "  <thead>\n",
              "    <tr style=\"text-align: right;\">\n",
              "      <th></th>\n",
              "      <th>capital_city</th>\n",
              "      <th>major_station_1</th>\n",
              "      <th>major_station_2</th>\n",
              "      <th>prefecture</th>\n",
              "      <th>region</th>\n",
              "    </tr>\n",
              "  </thead>\n",
              "  <tbody>\n",
              "    <tr>\n",
              "      <th>0</th>\n",
              "      <td>Tokyo</td>\n",
              "      <td>Tokyo</td>\n",
              "      <td>Shinjuku</td>\n",
              "      <td>Tokyo</td>\n",
              "      <td>Kanto</td>\n",
              "    </tr>\n",
              "    <tr>\n",
              "      <th>1</th>\n",
              "      <td>Saitama</td>\n",
              "      <td>Omiya</td>\n",
              "      <td>Urawa</td>\n",
              "      <td>Saitama</td>\n",
              "      <td>Kanto</td>\n",
              "    </tr>\n",
              "    <tr>\n",
              "      <th>2</th>\n",
              "      <td>Yokohama</td>\n",
              "      <td>Yokohama</td>\n",
              "      <td>Kawasaki</td>\n",
              "      <td>Kanagawa</td>\n",
              "      <td>Kanto</td>\n",
              "    </tr>\n",
              "    <tr>\n",
              "      <th>3</th>\n",
              "      <td>Osaka</td>\n",
              "      <td>Umeda</td>\n",
              "      <td>NaN</td>\n",
              "      <td>Osaka</td>\n",
              "      <td>Kansai</td>\n",
              "    </tr>\n",
              "    <tr>\n",
              "      <th>4</th>\n",
              "      <td>Kyoto</td>\n",
              "      <td>Kyoto</td>\n",
              "      <td>NaN</td>\n",
              "      <td>Kyoto</td>\n",
              "      <td>Kansai</td>\n",
              "    </tr>\n",
              "    <tr>\n",
              "      <th>5</th>\n",
              "      <td>Nara</td>\n",
              "      <td>Nara</td>\n",
              "      <td>NaN</td>\n",
              "      <td>Nara</td>\n",
              "      <td>Kansai</td>\n",
              "    </tr>\n",
              "    <tr>\n",
              "      <th>6</th>\n",
              "      <td>Kobe</td>\n",
              "      <td>Kobe</td>\n",
              "      <td>NaN</td>\n",
              "      <td>Hyogo</td>\n",
              "      <td>Kansai</td>\n",
              "    </tr>\n",
              "  </tbody>\n",
              "</table>\n",
              "</div>"
            ],
            "text/plain": [
              "  capital_city major_station_1 major_station_2 prefecture  region\n",
              "0        Tokyo           Tokyo        Shinjuku      Tokyo   Kanto\n",
              "1      Saitama           Omiya           Urawa    Saitama   Kanto\n",
              "2     Yokohama        Yokohama        Kawasaki   Kanagawa   Kanto\n",
              "3        Osaka           Umeda             NaN      Osaka  Kansai\n",
              "4        Kyoto           Kyoto             NaN      Kyoto  Kansai\n",
              "5         Nara            Nara             NaN       Nara  Kansai\n",
              "6         Kobe            Kobe             NaN      Hyogo  Kansai"
            ]
          },
          "metadata": {
            "tags": []
          },
          "execution_count": 4
        }
      ]
    },
    {
      "cell_type": "markdown",
      "metadata": {
        "id": "6TSNXhbQoGgF",
        "colab_type": "text"
      },
      "source": [
        "CSVファイルに書き出し"
      ]
    },
    {
      "cell_type": "code",
      "metadata": {
        "id": "frCF_X4ioI3T",
        "colab_type": "code",
        "colab": {}
      },
      "source": [
        "kanto_kansai_df.to_csv(\"kanto_kansai.csv\")"
      ],
      "execution_count": 0,
      "outputs": []
    },
    {
      "cell_type": "markdown",
      "metadata": {
        "id": "j8BfHfurpUxr",
        "colab_type": "text"
      },
      "source": [
        "class.csvとgrade.csvを読み込む"
      ]
    },
    {
      "cell_type": "code",
      "metadata": {
        "id": "HqwBaIbopdD3",
        "colab_type": "code",
        "outputId": "22340673-18d2-46c1-8015-9d9e13debb9f",
        "colab": {
          "base_uri": "https://localhost:8080/",
          "height": 266
        }
      },
      "source": [
        "class_df = pd.read_csv(\"class.csv\")\n",
        "class_df"
      ],
      "execution_count": 6,
      "outputs": [
        {
          "output_type": "execute_result",
          "data": {
            "text/html": [
              "<div>\n",
              "<style scoped>\n",
              "    .dataframe tbody tr th:only-of-type {\n",
              "        vertical-align: middle;\n",
              "    }\n",
              "\n",
              "    .dataframe tbody tr th {\n",
              "        vertical-align: top;\n",
              "    }\n",
              "\n",
              "    .dataframe thead th {\n",
              "        text-align: right;\n",
              "    }\n",
              "</style>\n",
              "<table border=\"1\" class=\"dataframe\">\n",
              "  <thead>\n",
              "    <tr style=\"text-align: right;\">\n",
              "      <th></th>\n",
              "      <th>student_number</th>\n",
              "      <th>name</th>\n",
              "      <th>age</th>\n",
              "      <th>nationality</th>\n",
              "    </tr>\n",
              "  </thead>\n",
              "  <tbody>\n",
              "    <tr>\n",
              "      <th>0</th>\n",
              "      <td>1</td>\n",
              "      <td>Jack</td>\n",
              "      <td>7</td>\n",
              "      <td>England</td>\n",
              "    </tr>\n",
              "    <tr>\n",
              "      <th>1</th>\n",
              "      <td>2</td>\n",
              "      <td>John</td>\n",
              "      <td>10</td>\n",
              "      <td>United States</td>\n",
              "    </tr>\n",
              "    <tr>\n",
              "      <th>2</th>\n",
              "      <td>3</td>\n",
              "      <td>Alice</td>\n",
              "      <td>12</td>\n",
              "      <td>England</td>\n",
              "    </tr>\n",
              "    <tr>\n",
              "      <th>3</th>\n",
              "      <td>4</td>\n",
              "      <td>Bob</td>\n",
              "      <td>7</td>\n",
              "      <td>Australia</td>\n",
              "    </tr>\n",
              "    <tr>\n",
              "      <th>4</th>\n",
              "      <td>5</td>\n",
              "      <td>Dominic</td>\n",
              "      <td>8</td>\n",
              "      <td>Germany</td>\n",
              "    </tr>\n",
              "    <tr>\n",
              "      <th>5</th>\n",
              "      <td>6</td>\n",
              "      <td>Akiko</td>\n",
              "      <td>11</td>\n",
              "      <td>Japan</td>\n",
              "    </tr>\n",
              "    <tr>\n",
              "      <th>6</th>\n",
              "      <td>7</td>\n",
              "      <td>Carly</td>\n",
              "      <td>6</td>\n",
              "      <td>Canada</td>\n",
              "    </tr>\n",
              "  </tbody>\n",
              "</table>\n",
              "</div>"
            ],
            "text/plain": [
              "   student_number     name  age    nationality\n",
              "0               1     Jack    7        England\n",
              "1               2     John   10  United States\n",
              "2               3    Alice   12        England\n",
              "3               4      Bob    7      Australia\n",
              "4               5  Dominic    8        Germany\n",
              "5               6    Akiko   11          Japan\n",
              "6               7    Carly    6         Canada"
            ]
          },
          "metadata": {
            "tags": []
          },
          "execution_count": 6
        }
      ]
    },
    {
      "cell_type": "code",
      "metadata": {
        "id": "SkeojyHjpo9S",
        "colab_type": "code",
        "outputId": "e2a38822-3b2e-4cf8-f720-21667b420e79",
        "colab": {
          "base_uri": "https://localhost:8080/",
          "height": 204
        }
      },
      "source": [
        "grade_df = pd.read_csv(\"grade.csv\")\n",
        "grade_df"
      ],
      "execution_count": 7,
      "outputs": [
        {
          "output_type": "execute_result",
          "data": {
            "text/html": [
              "<div>\n",
              "<style scoped>\n",
              "    .dataframe tbody tr th:only-of-type {\n",
              "        vertical-align: middle;\n",
              "    }\n",
              "\n",
              "    .dataframe tbody tr th {\n",
              "        vertical-align: top;\n",
              "    }\n",
              "\n",
              "    .dataframe thead th {\n",
              "        text-align: right;\n",
              "    }\n",
              "</style>\n",
              "<table border=\"1\" class=\"dataframe\">\n",
              "  <thead>\n",
              "    <tr style=\"text-align: right;\">\n",
              "      <th></th>\n",
              "      <th>student_number</th>\n",
              "      <th>name</th>\n",
              "      <th>math</th>\n",
              "      <th>science</th>\n",
              "    </tr>\n",
              "  </thead>\n",
              "  <tbody>\n",
              "    <tr>\n",
              "      <th>0</th>\n",
              "      <td>1</td>\n",
              "      <td>Jack</td>\n",
              "      <td>32</td>\n",
              "      <td>19</td>\n",
              "    </tr>\n",
              "    <tr>\n",
              "      <th>1</th>\n",
              "      <td>2</td>\n",
              "      <td>John</td>\n",
              "      <td>73</td>\n",
              "      <td>63</td>\n",
              "    </tr>\n",
              "    <tr>\n",
              "      <th>2</th>\n",
              "      <td>3</td>\n",
              "      <td>Alice</td>\n",
              "      <td>90</td>\n",
              "      <td>85</td>\n",
              "    </tr>\n",
              "    <tr>\n",
              "      <th>3</th>\n",
              "      <td>5</td>\n",
              "      <td>Dominic</td>\n",
              "      <td>45</td>\n",
              "      <td>58</td>\n",
              "    </tr>\n",
              "    <tr>\n",
              "      <th>4</th>\n",
              "      <td>6</td>\n",
              "      <td>Akiko</td>\n",
              "      <td>87</td>\n",
              "      <td>66</td>\n",
              "    </tr>\n",
              "  </tbody>\n",
              "</table>\n",
              "</div>"
            ],
            "text/plain": [
              "   student_number     name  math  science\n",
              "0               1     Jack    32       19\n",
              "1               2     John    73       63\n",
              "2               3    Alice    90       85\n",
              "3               5  Dominic    45       58\n",
              "4               6    Akiko    87       66"
            ]
          },
          "metadata": {
            "tags": []
          },
          "execution_count": 7
        }
      ]
    },
    {
      "cell_type": "markdown",
      "metadata": {
        "id": "3hi9G3XfqCu0",
        "colab_type": "text"
      },
      "source": [
        "## nameカラムをキー値に2つのデータを内部結合"
      ]
    },
    {
      "cell_type": "code",
      "metadata": {
        "id": "WyoEzvWkqHVU",
        "colab_type": "code",
        "outputId": "13356cf5-9c76-4f1e-f8ec-941199dc2268",
        "colab": {
          "base_uri": "https://localhost:8080/",
          "height": 204
        }
      },
      "source": [
        "class_grade_df = pd.merge(class_df, grade_df, on=[\"student_number\", \"name\"], how=\"inner\")\n",
        "class_grade_df"
      ],
      "execution_count": 8,
      "outputs": [
        {
          "output_type": "execute_result",
          "data": {
            "text/html": [
              "<div>\n",
              "<style scoped>\n",
              "    .dataframe tbody tr th:only-of-type {\n",
              "        vertical-align: middle;\n",
              "    }\n",
              "\n",
              "    .dataframe tbody tr th {\n",
              "        vertical-align: top;\n",
              "    }\n",
              "\n",
              "    .dataframe thead th {\n",
              "        text-align: right;\n",
              "    }\n",
              "</style>\n",
              "<table border=\"1\" class=\"dataframe\">\n",
              "  <thead>\n",
              "    <tr style=\"text-align: right;\">\n",
              "      <th></th>\n",
              "      <th>student_number</th>\n",
              "      <th>name</th>\n",
              "      <th>age</th>\n",
              "      <th>nationality</th>\n",
              "      <th>math</th>\n",
              "      <th>science</th>\n",
              "    </tr>\n",
              "  </thead>\n",
              "  <tbody>\n",
              "    <tr>\n",
              "      <th>0</th>\n",
              "      <td>1</td>\n",
              "      <td>Jack</td>\n",
              "      <td>7</td>\n",
              "      <td>England</td>\n",
              "      <td>32</td>\n",
              "      <td>19</td>\n",
              "    </tr>\n",
              "    <tr>\n",
              "      <th>1</th>\n",
              "      <td>2</td>\n",
              "      <td>John</td>\n",
              "      <td>10</td>\n",
              "      <td>United States</td>\n",
              "      <td>73</td>\n",
              "      <td>63</td>\n",
              "    </tr>\n",
              "    <tr>\n",
              "      <th>2</th>\n",
              "      <td>3</td>\n",
              "      <td>Alice</td>\n",
              "      <td>12</td>\n",
              "      <td>England</td>\n",
              "      <td>90</td>\n",
              "      <td>85</td>\n",
              "    </tr>\n",
              "    <tr>\n",
              "      <th>3</th>\n",
              "      <td>5</td>\n",
              "      <td>Dominic</td>\n",
              "      <td>8</td>\n",
              "      <td>Germany</td>\n",
              "      <td>45</td>\n",
              "      <td>58</td>\n",
              "    </tr>\n",
              "    <tr>\n",
              "      <th>4</th>\n",
              "      <td>6</td>\n",
              "      <td>Akiko</td>\n",
              "      <td>11</td>\n",
              "      <td>Japan</td>\n",
              "      <td>87</td>\n",
              "      <td>66</td>\n",
              "    </tr>\n",
              "  </tbody>\n",
              "</table>\n",
              "</div>"
            ],
            "text/plain": [
              "   student_number     name  age    nationality  math  science\n",
              "0               1     Jack    7        England    32       19\n",
              "1               2     John   10  United States    73       63\n",
              "2               3    Alice   12        England    90       85\n",
              "3               5  Dominic    8        Germany    45       58\n",
              "4               6    Akiko   11          Japan    87       66"
            ]
          },
          "metadata": {
            "tags": []
          },
          "execution_count": 8
        }
      ]
    },
    {
      "cell_type": "code",
      "metadata": {
        "id": "CcFbg2mkqqPz",
        "colab_type": "code",
        "colab": {}
      },
      "source": [
        "class_grade_df.to_csv(\"class_grade.csv\")"
      ],
      "execution_count": 0,
      "outputs": []
    }
  ]
}